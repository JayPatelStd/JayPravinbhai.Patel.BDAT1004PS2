{
 "cells": [
  {
   "cell_type": "code",
   "execution_count": 38,
   "id": "b5f9aef8",
   "metadata": {},
   "outputs": [
    {
     "data": {
      "text/plain": [
       "6"
      ]
     },
     "execution_count": 38,
     "metadata": {},
     "output_type": "execute_result"
    }
   ],
   "source": [
    "# Question 1\n",
    "\n",
    "a = 0   # value of a is assigned as 0\n",
    "def b():   # Defining function b   \n",
    "    global a   # Calling global a which I defined earlier\n",
    "    a = c(a)   # Calling function c with a as parameter\n",
    "def c(a):   # Defining function c with a as parameter\n",
    "    return a + 2   # Returns a + 2 \n",
    "\n",
    "b()\n",
    "b()\n",
    "b()\n",
    "a\n",
    "\n",
    "# 6 will be displayed when the last expression (a) is evaluated\n",
    "\n",
    "# --> 1: When First b() function will be called first time it will execute the function in which Firstly it will call global a \n",
    "# and the value of global a is 0 so function will then execute next statement in which c function will be called with a as a \n",
    "# parameter. After that, in c function the value will be updated to 2.\n",
    "\n",
    "# --> 2: When second b() function is called then similarly the value of a will be updated to 4. \n",
    "\n",
    "# --> 3: When third b() function is called then similarly the value of a will be updated to 6. \n",
    "\n",
    "#After that a will be called then the value of a which is 6 will be printed"
   ]
  },
  {
   "cell_type": "code",
   "execution_count": 2,
   "id": "d93c5f9c",
   "metadata": {},
   "outputs": [
    {
     "name": "stdout",
     "output_type": "stream",
     "text": [
      "Length of the File words.txt is: 5346\n",
      "File word.txt not found.\n"
     ]
    }
   ],
   "source": [
    "# Question 2\n",
    "\n",
    "def fileLength(filename):   # Defining fileLength and filename as a parameter\n",
    "    # Defining try block here\n",
    "    try:\n",
    "        file = open(filename, 'r')   # Opening filename file and storing it in file variable\n",
    "        file_contents = file.read()   # Reading the file and storing it's content in file_contents\n",
    "        file.close()   # Closing the file\n",
    "        file_len = len(file_contents)   # Defining file_len and storing length of file in it\n",
    "        \n",
    "        print(f\"Length of the File {filename} is: {file_len}\")\n",
    "        \n",
    "    except FileNotFoundError:   # Defining except block function which will be called if the file is not found\n",
    "        print(f\"File {filename} not found.\")\n",
    "        \n",
    "fileLength('words.txt')   # Creting object of fileLength function and passing words.txt file as parameter\n",
    "fileLength('word.txt')   # Creting object of fileLength function and passing words.txt file as parameter"
   ]
  },
  {
   "cell_type": "code",
   "execution_count": 3,
   "id": "76cd583a",
   "metadata": {},
   "outputs": [
    {
     "name": "stdout",
     "output_type": "stream",
     "text": [
      "I am a Kangaroo located at coordinates (0,0)\n",
      "['doll', 'firetruck', 'kitten']\n",
      "I am a Kangaroo located at coordinates (3,0)\n"
     ]
    }
   ],
   "source": [
    "# Question 3\n",
    "\n",
    "class Marsupial:   #  Initializing class Marsupial\n",
    "    def __init__(self):   # Defining __init__ function in which pouch variable will created\n",
    "        self.pouch = []\n",
    "\n",
    "    def put_in_pouch(self, word):   # Defining put_in_pouch function in which self and word parameter will be passed\n",
    "        self.pouch.append(word)   # Appending word in pouch\n",
    "\n",
    "    def pouch_contents(self):   # Defining pouch_contents function in which self parameter will be passed\n",
    "        return self.pouch\n",
    "    \n",
    "class Kangaroo(Marsupial):   # Defining Kangaroo class and passing Marsupial as a parameter\n",
    "    def __init__(self, x=0, y=0):   # Defining __init__ function and passing these three parameters\n",
    "        super().__init__()\n",
    "        self.x = x\n",
    "        self.y = y\n",
    "        \n",
    "    def jump(self, dx, dy):   # Defining jump function and passing these three parameters\n",
    "        self.x += dx\n",
    "        self.y += dy\n",
    "        \n",
    "    def __str__(self):   # Defining __str__ function and passing self as parameter\n",
    "        return f\"I am a Kangaroo located at coordinates ({self.x},{self.y})\"\n",
    "    \n",
    "\n",
    "temp = Kangaroo(0, 0)   # Calling Kangaroo class and passing parameter\n",
    "print(temp)\n",
    "\n",
    "temp.put_in_pouch('doll')\n",
    "temp.put_in_pouch('firetruck')\n",
    "temp.put_in_pouch('kitten')\n",
    "\n",
    "print(temp.pouch_contents()) \n",
    "temp.jump(1, 0)\n",
    "temp.jump(1, 0)\n",
    "temp.jump(1, 0)\n",
    "\n",
    "print(temp) "
   ]
  },
  {
   "cell_type": "code",
   "execution_count": 4,
   "id": "4ffee513",
   "metadata": {},
   "outputs": [
    {
     "name": "stdout",
     "output_type": "stream",
     "text": [
      "Collatz sequence for 1 is:\n",
      "1\n",
      "Collatz sequence for 10 is:\n",
      "10\n",
      "5\n",
      "16\n",
      "8\n",
      "4\n",
      "2\n",
      "1\n"
     ]
    }
   ],
   "source": [
    "# Question 4\n",
    "\n",
    "def collatz(x):   #  Initializing function collatz\n",
    "    print(x)\n",
    "    if(x == 1):   \n",
    "        return\n",
    "    elif(x < 0):\n",
    "        print(\"Please enter the positive number\")\n",
    "        return\n",
    "    elif(x % 2 != 0):   \n",
    "        collatz(3 * x + 1)   # Recursive function \n",
    "    else:\n",
    "        collatz(x // 2)   # Recursive function \n",
    "\n",
    "print(\"Collatz sequence for 1 is:\")        \n",
    "collatz(1)\n",
    "print(\"Collatz sequence for 10 is:\") \n",
    "collatz(10)"
   ]
  },
  {
   "cell_type": "code",
   "execution_count": 5,
   "id": "707a723a",
   "metadata": {},
   "outputs": [
    {
     "name": "stdout",
     "output_type": "stream",
     "text": [
      "0\n",
      "1\n",
      "11\n",
      "1001\n",
      "Please enter the positive number\n"
     ]
    }
   ],
   "source": [
    "# Question 5\n",
    "\n",
    "def binary(n):   #  Initializing function binary\n",
    "    if n > 1:\n",
    "        binary(n // 2)\n",
    "    if n < 0:\n",
    "        print(\"Please enter the positive number\")\n",
    "        return\n",
    "    print(n % 2, end = '')\n",
    "    \n",
    "        \n",
    "binary(0)\n",
    "print()\n",
    "binary(1)\n",
    "print()\n",
    "binary(3)\n",
    "print()\n",
    "binary(9)\n",
    "print()\n",
    "binary(-12)\n",
    "\n"
   ]
  },
  {
   "cell_type": "code",
   "execution_count": 39,
   "id": "bd58a23f",
   "metadata": {},
   "outputs": [
    {
     "name": "stdout",
     "output_type": "stream",
     "text": [
      "W3C Mission\n",
      " Principles\n"
     ]
    }
   ],
   "source": [
    "# Question 6       \n",
    "\n",
    "from html.parser import HTMLParser\n",
    "\n",
    "class HeadingParser(HTMLParser):   #  Initializing class HeadingParser\n",
    "    def __init__(self):\n",
    "        super().__init__()\n",
    "        self.indentation = 0\n",
    "    \n",
    "    def handle_starttag(self, tag, attrs):\n",
    "        if tag.startswith('h'):\n",
    "            if tag[1:].isdigit():\n",
    "                self.indentation = int(tag[1])   # Updating indentation\n",
    "    \n",
    "    def handle_endtag(self, tag):\n",
    "        if tag.startswith('h'):\n",
    "            self.indentation = 0   # Updating indentation\n",
    "    \n",
    "    def handle_data(self, data):\n",
    "        if self.indentation:\n",
    "            print(\" \" * (self.indentation-1) + data.strip())\n",
    "\n",
    "infile = open('w3c.html')\n",
    "content = infile.read()\n",
    "infile.close()\n",
    "hp = HeadingParser()\n",
    "hp.feed(content)"
   ]
  },
  {
   "cell_type": "code",
   "execution_count": 36,
   "id": "39bd5ea3",
   "metadata": {},
   "outputs": [
    {
     "name": "stdout",
     "output_type": "stream",
     "text": [
      "http://reed.cs.depaul.edu/lperkovic/one.html\n",
      "    http://reed.cs.depaul.edu/lperkovic/two.html\n",
      "    http://reed.cs.depaul.edu/lperkovic/three.html\n",
      "        http://reed.cs.depaul.edu/lperkovic/four.html\n"
     ]
    }
   ],
   "source": [
    "# Question 7\n",
    "\n",
    "import urllib.request\n",
    "from urllib.parse import urljoin\n",
    "from html.parser import HTMLParser\n",
    "from collections import deque\n",
    "\n",
    "class LinkParser(HTMLParser):    #  Initializing class LinkParser\n",
    "    def __init__(self):\n",
    "        super().__init__()\n",
    "        self.linkcollection = []   # Creating linkcollection variable\n",
    "\n",
    "    def handle_starttag(self, tag, attrs):\n",
    "        if tag == 'a':\n",
    "            href = dict(attrs).get('href')\n",
    "            if href is not None:\n",
    "                self.linkcollection.append(href)   # Appending value in linkcollection\n",
    "\n",
    "def webdir(url, depth, indent):\n",
    "    print(' ' * indent + url)\n",
    "\n",
    "    old_url = {url}\n",
    "    queue = deque([(url, 1)])\n",
    "\n",
    "    while queue:\n",
    "        present_url, present_depth = queue.popleft()\n",
    "        if present_depth > depth:\n",
    "            continue\n",
    "\n",
    "        try:\n",
    "            with urllib.request.urlopen(present_url) as response:\n",
    "                html = response.read().decode()\n",
    "        except:\n",
    "            continue\n",
    "\n",
    "        parser = LinkParser()\n",
    "        parser.feed(html)\n",
    "\n",
    "        for link in parser.linkcollection:\n",
    "            final_url = urljoin(present_url, link)\n",
    "\n",
    "            if final_url not in old_url:\n",
    "                old_url.add(final_url)\n",
    "                queue.append((final_url, present_depth + 1))\n",
    "\n",
    "                print(' ' * (present_depth * 4 + indent) + final_url)\n",
    "\n",
    "                \n",
    "webdir('http://reed.cs.depaul.edu/lperkovic/one.html', 2, 0)   # Used different link because the link which is in assignment quesrtion is not working"
   ]
  },
  {
   "cell_type": "code",
   "execution_count": 10,
   "id": "d4e811db",
   "metadata": {},
   "outputs": [],
   "source": [
    "# Question 8\n",
    "\n",
    "import sqlite3\n",
    "\n",
    "conn = sqlite3.connect('DB_PS2_Question-8.db')   # Creating 'DB_PS2_Question-8.db' databse file\n",
    "\n",
    "cur = conn.cursor()   # Creating Cur object in order to execute SQL commands\n",
    "\n",
    "# Creating table named 'info' with mentioned column names\n",
    "cur.execute(\"CREATE TABLE info (City text, Country text, Season text, Temperature float, Rainfall float)\")\n",
    "\n",
    "cur.execute(\"INSERT INTO info (City, Country, Season, Temperature, Rainfall)   VALUES('Mumbai', 'India', 'Winter', 24.8, 5.9)\")\n",
    "cur.execute(\"INSERT INTO info (City, Country, Season, Temperature, Rainfall)   VALUES('Mumbai', 'India', 'Spring', 28.4, 16.2)\")\n",
    "cur.execute(\"INSERT INTO info (City, Country, Season, Temperature, Rainfall)   VALUES('Mumbai', 'India', 'Summer', 27.9, 1549.4)\")\n",
    "cur.execute(\"INSERT INTO info (City, Country, Season, Temperature, Rainfall)   VALUES('Mumbai', 'India', 'Fall', 27.6, 346.0)\")\n",
    "cur.execute(\"INSERT INTO info (City, Country, Season, Temperature, Rainfall)   VALUES('London', 'United Kingdom', 'Winter', 4.2, 207.7)\")\n",
    "cur.execute(\"INSERT INTO info (City, Country, Season, Temperature, Rainfall)   VALUES('London', 'United Kingdom', 'Spring', 8.3, 169.6)\")\n",
    "cur.execute(\"INSERT INTO info (City, Country, Season, Temperature, Rainfall)   VALUES('London', 'United Kingdom', 'Summer', 15.7, 157.0)\")\n",
    "cur.execute(\"INSERT INTO info (City, Country, Season, Temperature, Rainfall)   VALUES('London', 'United Kingdom', 'Fall', 10.4, 218.5)\")\n",
    "cur.execute(\"INSERT INTO info (City, Country, Season, Temperature, Rainfall)   VALUES('Cairo', 'Egypt', 'Winter', 13.6, 16.5)\")\n",
    "cur.execute(\"INSERT INTO info (City, Country, Season, Temperature, Rainfall)   VALUES('Cairo', 'Egypt', 'Spring', 20.7, 6.5)\")\n",
    "cur.execute(\"INSERT INTO info (City, Country, Season, Temperature, Rainfall)   VALUES('Cairo', 'Egypt', 'Summer', 27.7, 0.1)\")\n",
    "cur.execute(\"INSERT INTO info (City, Country, Season, Temperature, Rainfall)   VALUES('Cairo', 'Egypt', 'Fall', 22.2, 4.5)\")\n",
    "\n",
    "conn.commit()"
   ]
  },
  {
   "cell_type": "code",
   "execution_count": 11,
   "id": "9aff1afd",
   "metadata": {},
   "outputs": [
    {
     "name": "stdout",
     "output_type": "stream",
     "text": [
      "All the temperature data\n",
      "24.8\n",
      "28.4\n",
      "27.9\n",
      "27.6\n",
      "4.2\n",
      "8.3\n",
      "15.7\n",
      "10.4\n",
      "13.6\n",
      "20.7\n",
      "27.7\n",
      "22.2\n"
     ]
    }
   ],
   "source": [
    "# Question 8 - A\n",
    "\n",
    "print(\"All the temperature data\")\n",
    "cur.execute('SELECT Temperature FROM info')\n",
    "for x in cur.fetchall():\n",
    "    print(x[0])\n"
   ]
  },
  {
   "cell_type": "code",
   "execution_count": 12,
   "id": "f05ff626",
   "metadata": {},
   "outputs": [
    {
     "name": "stdout",
     "output_type": "stream",
     "text": [
      "All the cities, but without repetition\n",
      "Mumbai\n",
      "London\n",
      "Cairo\n"
     ]
    }
   ],
   "source": [
    "# Question 8 - B\n",
    "\n",
    "print(\"All the cities, but without repetition\")\n",
    "cur.execute('SELECT DISTINCT City FROM info')\n",
    "for x in cur.fetchall():\n",
    "    print(x[0])"
   ]
  },
  {
   "cell_type": "code",
   "execution_count": 13,
   "id": "a0d60ca8",
   "metadata": {},
   "outputs": [
    {
     "name": "stdout",
     "output_type": "stream",
     "text": [
      "All the records for India\n",
      "('Mumbai', 'India', 'Winter', 24.8, 5.9)\n",
      "('Mumbai', 'India', 'Spring', 28.4, 16.2)\n",
      "('Mumbai', 'India', 'Summer', 27.9, 1549.4)\n",
      "('Mumbai', 'India', 'Fall', 27.6, 346.0)\n"
     ]
    }
   ],
   "source": [
    "# Question 8 - C\n",
    "\n",
    "print(\"All the records for India\")\n",
    "cur.execute('SELECT * FROM info WHERE Country = \"India\"')\n",
    "for x in cur.fetchall():\n",
    "    print(x)"
   ]
  },
  {
   "cell_type": "code",
   "execution_count": 14,
   "id": "60c7c79e",
   "metadata": {},
   "outputs": [
    {
     "name": "stdout",
     "output_type": "stream",
     "text": [
      "All the Fall records\n",
      "('Mumbai', 'India', 'Fall', 27.6, 346.0)\n",
      "('London', 'United Kingdom', 'Fall', 10.4, 218.5)\n",
      "('Cairo', 'Egypt', 'Fall', 22.2, 4.5)\n"
     ]
    }
   ],
   "source": [
    "# Question 8 - D\n",
    "\n",
    "print(\"All the Fall records\")\n",
    "cur.execute('SELECT * FROM info WHERE Season = \"Fall\"')\n",
    "for x in cur.fetchall():\n",
    "    print(x)"
   ]
  },
  {
   "cell_type": "code",
   "execution_count": 15,
   "id": "2127743a",
   "metadata": {},
   "outputs": [
    {
     "name": "stdout",
     "output_type": "stream",
     "text": [
      "The city, country and season for which the average rainfall is between 200 and 400 millimeters\n",
      "('London', 'United Kingdom', 'Fall')\n",
      "('London', 'United Kingdom', 'Winter')\n",
      "('Mumbai', 'India', 'Fall')\n"
     ]
    }
   ],
   "source": [
    "# Question 8 - E\n",
    "\n",
    "print(\"The city, country and season for which the average rainfall is between 200 and 400 millimeters\")\n",
    "cur.execute('SELECT City, Country, Season FROM info GROUP BY City, Country, Season HAVING AVG(Rainfall) BETWEEN 200 AND 400')\n",
    "for x in cur.fetchall():\n",
    "    print(x)"
   ]
  },
  {
   "cell_type": "code",
   "execution_count": 16,
   "id": "daa4e84c",
   "metadata": {},
   "outputs": [
    {
     "name": "stdout",
     "output_type": "stream",
     "text": [
      "The city and country for which the average Fall temperature is above 20 degrees, in increasing temperature order\n",
      "('Cairo', 'Egypt')\n",
      "('Mumbai', 'India')\n"
     ]
    }
   ],
   "source": [
    "# Question 8 - F\n",
    "\n",
    "print(\"The city and country for which the average Fall temperature is above 20 degrees, in increasing temperature order\")\n",
    "cur.execute('SELECT City, Country FROM info GROUP BY City, Country HAVING AVG(Temperature) > 20 ORDER BY AVG(Temperature) ASC')\n",
    "for x in cur.fetchall():\n",
    "    print(x)"
   ]
  },
  {
   "cell_type": "code",
   "execution_count": 17,
   "id": "0e2222c2",
   "metadata": {},
   "outputs": [
    {
     "name": "stdout",
     "output_type": "stream",
     "text": [
      "The total annual rainfall for Cairo = 27.6 millimeters\n"
     ]
    }
   ],
   "source": [
    "# Question 8 - G\n",
    "\n",
    "cur.execute('SELECT SUM(rainfall) FROM info WHERE city = \"Cairo\"')\n",
    "for x in cur.fetchall():\n",
    "    print(f\"The total annual rainfall for Cairo = {x[0]} millimeters\")"
   ]
  },
  {
   "cell_type": "code",
   "execution_count": 18,
   "id": "7f21abdc",
   "metadata": {},
   "outputs": [
    {
     "name": "stdout",
     "output_type": "stream",
     "text": [
      "The total rainfall for each season\n",
      "The total rainfall for Fall: 569.0 millimeters\n",
      "The total rainfall for Spring: 192.29999999999998 millimeters\n",
      "The total rainfall for Summer: 1706.5 millimeters\n",
      "The total rainfall for Winter: 230.1 millimeters\n"
     ]
    }
   ],
   "source": [
    "# Question 8 - H\n",
    "\n",
    "print(\"The total rainfall for each season\")\n",
    "cur.execute('SELECT Season, SUM(rainfall) FROM info GROUP BY season')\n",
    "for x in cur.fetchall():\n",
    "    print(f\"The total rainfall for {x[0]}: {x[1]} millimeters\")\n",
    "    \n",
    "#cur.close()   \n",
    "#conn.close()"
   ]
  },
  {
   "cell_type": "code",
   "execution_count": 19,
   "id": "80120483",
   "metadata": {},
   "outputs": [
    {
     "name": "stdout",
     "output_type": "stream",
     "text": [
      "<<------------------------------Output of Question 9-A------------------------------>>\n",
      "['THE', 'QUICK', 'BROWN', 'FOX', 'JUMPS', 'OVER', 'THE', 'LAZY', 'DOG']\n",
      "\n",
      "<<------------------------------Output of Question 9-B------------------------------>>\n",
      "['the', 'quick', 'brown', 'fox', 'jumps', 'over', 'the', 'lazy', 'dog']\n",
      "\n",
      "<<------------------------------Output of Question 9-C------------------------------>>\n",
      "[3, 5, 5, 3, 5, 4, 3, 4, 3]\n",
      "\n",
      "<<------------------------------Output of Question 9-D------------------------------>>\n",
      "[['THE', 'the', 3], ['QUICK', 'quick', 5], ['BROWN', 'brown', 5], ['FOX', 'fox', 3], ['JUMPS', 'jumps', 5], ['OVER', 'over', 4], ['THE', 'the', 3], ['LAZY', 'lazy', 4], ['DOG', 'dog', 3]]\n",
      "\n",
      "<<------------------------------Output of Question 9-E------------------------------>>\n",
      "['quick', 'brown', 'jumps', 'over', 'lazy']\n"
     ]
    }
   ],
   "source": [
    "# Question 9\n",
    "\n",
    "words = ['The', 'quick', 'brown', 'fox', 'jumps', 'over', 'the', 'lazy', 'dog']   # Initializing words \n",
    "\n",
    "\n",
    "# List comprehension expressions \n",
    "# Question 9 - A\n",
    "\n",
    "print(\"<<------------------------------Output of Question 9-A------------------------------\")\n",
    "uppercase = [i.upper() for i in words]\n",
    "print(uppercase)\n",
    "print()\n",
    "\n",
    "# Question 9 - B\n",
    "print(\"<<------------------------------Output of Question 9-B------------------------------\")\n",
    "lowercase = [i.lower() for i in words]\n",
    "print(lowercase)\n",
    "print()\n",
    "\n",
    "# Question 9 - C\n",
    "print(\"<<------------------------------Output of Question 9-C------------------------------\")\n",
    "lengthOfList = [len(i) for i in words]\n",
    "print(lengthOfList)\n",
    "print()\n",
    "\n",
    "# Question 9 - D\n",
    "print(\"<<------------------------------Output of Question 9-D------------------------------\")\n",
    "merged = [[i.upper(), i.lower(), len(i)] for i in words]\n",
    "print(merged)\n",
    "print()\n",
    "\n",
    "# Question 9 - E\n",
    "print(\"------------------------------Output of Question 9-E------------------------------\")\n",
    "long = [i for i in words if len(i) >= 4]\n",
    "print(long)"
   ]
  },
  {
   "cell_type": "code",
   "execution_count": null,
   "id": "e3a7091e",
   "metadata": {},
   "outputs": [],
   "source": []
  }
 ],
 "metadata": {
  "kernelspec": {
   "display_name": "Python 3 (ipykernel)",
   "language": "python",
   "name": "python3"
  },
  "language_info": {
   "codemirror_mode": {
    "name": "ipython",
    "version": 3
   },
   "file_extension": ".py",
   "mimetype": "text/x-python",
   "name": "python",
   "nbconvert_exporter": "python",
   "pygments_lexer": "ipython3",
   "version": "3.9.13"
  }
 },
 "nbformat": 4,
 "nbformat_minor": 5
}
